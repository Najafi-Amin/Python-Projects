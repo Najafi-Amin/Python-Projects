{
 "cells": [
  {
   "cell_type": "markdown",
   "id": "d56d4a3a",
   "metadata": {},
   "source": [
    "# Neural Network Model Training\n",
    "@author amin <br>\n",
    "Description: Neural network model trained on a set of photos of camels and dogs capable of distinguishing camels from dogs"
   ]
  },
  {
   "cell_type": "markdown",
   "id": "ca299d14",
   "metadata": {},
   "source": [
    "<h4>Import relevant modules</h4>"
   ]
  },
  {
   "cell_type": "code",
   "execution_count": 1,
   "id": "ef91a290",
   "metadata": {},
   "outputs": [],
   "source": [
    "import tensorflow as tf\n",
    "import os\n",
    "import numpy as np\n",
    "import tensorflow as tf\n",
    "from tensorflow.keras import layers, models\n",
    "from tensorflow.keras.preprocessing import image\n",
    "from tensorflow.keras.preprocessing.image import ImageDataGenerator"
   ]
  },
  {
   "cell_type": "markdown",
   "id": "7cb10f35",
   "metadata": {},
   "source": [
    "<h4>Set the path to my dataset containing camel and dog images</h4>"
   ]
  },
  {
   "cell_type": "code",
   "execution_count": 13,
   "id": "8b52b1cd",
   "metadata": {},
   "outputs": [],
   "source": [
    "dataset_path = '/Users/aminnajafi/Documents/Dataset'"
   ]
  },
  {
   "cell_type": "markdown",
   "id": "8745778e",
   "metadata": {},
   "source": [
    "<h4>Set the image height and width and batch size</h4>"
   ]
  },
  {
   "cell_type": "code",
   "execution_count": 8,
   "id": "c6cc7411",
   "metadata": {},
   "outputs": [],
   "source": [
    "img_width, img_height = 224, 224\n",
    "batch_size = 32"
   ]
  },
  {
   "cell_type": "code",
   "execution_count": 9,
   "id": "627cee5d",
   "metadata": {},
   "outputs": [],
   "source": [
    "datagen = ImageDataGenerator(\n",
    "    rescale=1./255,\n",
    "    shear_range=0.2,\n",
    "    zoom_range=0.2,\n",
    "    horizontal_flip=True,\n",
    "    validation_split=0.2  # Split the data into training and validation sets\n",
    ")"
   ]
  },
  {
   "cell_type": "code",
   "execution_count": 14,
   "id": "0040038f",
   "metadata": {},
   "outputs": [
    {
     "name": "stdout",
     "output_type": "stream",
     "text": [
      "Found 160 images belonging to 2 classes.\n",
      "Found 39 images belonging to 2 classes.\n"
     ]
    }
   ],
   "source": [
    "# Generate training dataset\n",
    "train_generator = datagen.flow_from_directory(\n",
    "    dataset_path,\n",
    "    target_size=(img_width, img_height),\n",
    "    batch_size=batch_size,\n",
    "    class_mode='binary',  # 'binary' since there are two classes (camel and dog)\n",
    "    subset='training'\n",
    ")\n",
    "\n",
    "# Generate validation dataset\n",
    "validation_generator = datagen.flow_from_directory(\n",
    "    dataset_path,\n",
    "    target_size=(img_width, img_height),\n",
    "    batch_size=batch_size,\n",
    "    class_mode='binary',\n",
    "    subset='validation'\n",
    ")\n"
   ]
  },
  {
   "cell_type": "markdown",
   "id": "7fcfdac9",
   "metadata": {},
   "source": [
    "<h4>Define NN Model</h4>"
   ]
  },
  {
   "cell_type": "code",
   "execution_count": 18,
   "id": "65d76027",
   "metadata": {},
   "outputs": [],
   "source": [
    "model = models.Sequential()\n",
    "model.add(layers.Conv2D(32, (3, 3), activation='relu', input_shape=(img_width, img_height, 3)))\n",
    "model.add(layers.MaxPooling2D((2, 2)))\n",
    "model.add(layers.Conv2D(64, (3, 3), activation='relu'))\n",
    "model.add(layers.MaxPooling2D((2, 2)))\n",
    "model.add(layers.Conv2D(128, (3, 3), activation='relu'))\n",
    "model.add(layers.MaxPooling2D((2, 2)))\n",
    "model.add(layers.Flatten())\n",
    "model.add(layers.Dense(128, activation='relu'))\n",
    "model.add(layers.Dense(1, activation='sigmoid'))"
   ]
  },
  {
   "cell_type": "markdown",
   "id": "9123baa1",
   "metadata": {},
   "source": [
    "<h4>Compile the model</h4>"
   ]
  },
  {
   "cell_type": "code",
   "execution_count": 19,
   "id": "857f8ac6",
   "metadata": {},
   "outputs": [],
   "source": [
    "# Compile the model\n",
    "model.compile(optimizer='adam',\n",
    "              loss='binary_crossentropy',\n",
    "              metrics=['accuracy'])"
   ]
  },
  {
   "cell_type": "markdown",
   "id": "117e936c",
   "metadata": {},
   "source": [
    "<h4>Train the model</h4>"
   ]
  },
  {
   "cell_type": "code",
   "execution_count": 20,
   "id": "3f1ecdec",
   "metadata": {},
   "outputs": [
    {
     "name": "stdout",
     "output_type": "stream",
     "text": [
      "Epoch 1/10\n",
      "5/5 [==============================] - 3s 493ms/step - loss: 1.9251 - accuracy: 0.4750 - val_loss: 0.7039 - val_accuracy: 0.5000\n",
      "Epoch 2/10\n",
      "5/5 [==============================] - 2s 421ms/step - loss: 0.7023 - accuracy: 0.5000 - val_loss: 0.6808 - val_accuracy: 0.5938\n",
      "Epoch 3/10\n",
      "5/5 [==============================] - 2s 458ms/step - loss: 0.6507 - accuracy: 0.6062 - val_loss: 0.6649 - val_accuracy: 0.6562\n",
      "Epoch 4/10\n",
      "5/5 [==============================] - 2s 440ms/step - loss: 0.5927 - accuracy: 0.7250 - val_loss: 0.6398 - val_accuracy: 0.6875\n",
      "Epoch 5/10\n",
      "5/5 [==============================] - 2s 439ms/step - loss: 0.5209 - accuracy: 0.7625 - val_loss: 0.5629 - val_accuracy: 0.7812\n",
      "Epoch 6/10\n",
      "5/5 [==============================] - 2s 436ms/step - loss: 0.4946 - accuracy: 0.7937 - val_loss: 0.5320 - val_accuracy: 0.7812\n",
      "Epoch 7/10\n",
      "5/5 [==============================] - 2s 466ms/step - loss: 0.4283 - accuracy: 0.8000 - val_loss: 0.5419 - val_accuracy: 0.7500\n",
      "Epoch 8/10\n",
      "5/5 [==============================] - 2s 441ms/step - loss: 0.3820 - accuracy: 0.8188 - val_loss: 0.5161 - val_accuracy: 0.7812\n",
      "Epoch 9/10\n",
      "5/5 [==============================] - 2s 444ms/step - loss: 0.3418 - accuracy: 0.8313 - val_loss: 0.5870 - val_accuracy: 0.6562\n",
      "Epoch 10/10\n",
      "5/5 [==============================] - 2s 443ms/step - loss: 0.3669 - accuracy: 0.8250 - val_loss: 0.6204 - val_accuracy: 0.7500\n"
     ]
    }
   ],
   "source": [
    "# Train the model\n",
    "history = model.fit(\n",
    "    train_generator,\n",
    "    steps_per_epoch=train_generator.samples // batch_size,\n",
    "    epochs=10,\n",
    "    validation_data=validation_generator,\n",
    "    validation_steps=validation_generator.samples // batch_size\n",
    ")\n"
   ]
  },
  {
   "cell_type": "markdown",
   "id": "b4dd1b6c",
   "metadata": {},
   "source": [
    "<h4>Predict a new image</h4>"
   ]
  },
  {
   "cell_type": "code",
   "execution_count": 24,
   "id": "059d94aa",
   "metadata": {},
   "outputs": [
    {
     "name": "stdout",
     "output_type": "stream",
     "text": [
      "1/1 [==============================] - 0s 17ms/step\n",
      "Prediction: Dog\n"
     ]
    }
   ],
   "source": [
    "# Path to the new image you want to predict\n",
    "new_image_path = '/Users/aminnajafi/Downloads/animal_test_1.jpg'\n",
    "\n",
    "# Load and preprocess the new image\n",
    "img = image.load_img(new_image_path, target_size=(224, 224))\n",
    "img_array = image.img_to_array(img)\n",
    "img_array = np.expand_dims(img_array, axis=0)\n",
    "img_array /= 255.0  # Normalize the image\n",
    "\n",
    "# Make predictions\n",
    "predictions = model.predict(img_array)\n",
    "\n",
    "# Interpret the predictions\n",
    "if predictions[0, 0] > 0.5:\n",
    "    print(\"Prediction: Dog\")\n",
    "else:\n",
    "    print(\"Prediction: Camel\")"
   ]
  },
  {
   "cell_type": "code",
   "execution_count": 25,
   "id": "c4afd4f5",
   "metadata": {},
   "outputs": [
    {
     "name": "stdout",
     "output_type": "stream",
     "text": [
      "1/1 [==============================] - 0s 15ms/step\n",
      "Prediction: Camel\n"
     ]
    }
   ],
   "source": [
    "# Path to the new image you want to predict\n",
    "new_image_path = '/Users/aminnajafi/Downloads/animal_test_2.jpg'\n",
    "\n",
    "# Load and preprocess the new image\n",
    "img = image.load_img(new_image_path, target_size=(224, 224))\n",
    "img_array = image.img_to_array(img)\n",
    "img_array = np.expand_dims(img_array, axis=0)\n",
    "img_array /= 255.0  # Normalize the image\n",
    "\n",
    "# Make predictions\n",
    "predictions = model.predict(img_array)\n",
    "\n",
    "# Interpret the predictions\n",
    "if predictions[0, 0] > 0.5:\n",
    "    print(\"Prediction: Dog\")\n",
    "else:\n",
    "    print(\"Prediction: Camel\")"
   ]
  }
 ],
 "metadata": {
  "kernelspec": {
   "display_name": "Python 3 (ipykernel)",
   "language": "python",
   "name": "python3"
  },
  "language_info": {
   "codemirror_mode": {
    "name": "ipython",
    "version": 3
   },
   "file_extension": ".py",
   "mimetype": "text/x-python",
   "name": "python",
   "nbconvert_exporter": "python",
   "pygments_lexer": "ipython3",
   "version": "3.11.5"
  }
 },
 "nbformat": 4,
 "nbformat_minor": 5
}
